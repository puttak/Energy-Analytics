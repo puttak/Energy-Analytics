{
 "cells": [
  {
   "cell_type": "code",
   "execution_count": 63,
   "metadata": {},
   "outputs": [],
   "source": [
    "import numpy as np \n",
    "from sklearn.linear_model import LinearRegression\n",
    "from sklearn.svm import SVR\n",
    "from sklearn.model_selection import train_test_split\n",
    "import pandas as pd\n",
    "import matplotlib.pyplot as plt\n",
    "%matplotlib inline"
   ]
  },
  {
   "cell_type": "code",
   "execution_count": 64,
   "metadata": {},
   "outputs": [],
   "source": [
    "df = pd.read_csv('WTI_price.csv')"
   ]
  },
  {
   "cell_type": "code",
   "execution_count": 65,
   "metadata": {},
   "outputs": [
    {
     "data": {
      "text/html": [
       "<div>\n",
       "<style scoped>\n",
       "    .dataframe tbody tr th:only-of-type {\n",
       "        vertical-align: middle;\n",
       "    }\n",
       "\n",
       "    .dataframe tbody tr th {\n",
       "        vertical-align: top;\n",
       "    }\n",
       "\n",
       "    .dataframe thead th {\n",
       "        text-align: right;\n",
       "    }\n",
       "</style>\n",
       "<table border=\"1\" class=\"dataframe\">\n",
       "  <thead>\n",
       "    <tr style=\"text-align: right;\">\n",
       "      <th></th>\n",
       "      <th>Date</th>\n",
       "      <th>Price</th>\n",
       "    </tr>\n",
       "  </thead>\n",
       "  <tbody>\n",
       "    <tr>\n",
       "      <td>0</td>\n",
       "      <td>2-Jan-86</td>\n",
       "      <td>25.56</td>\n",
       "    </tr>\n",
       "    <tr>\n",
       "      <td>1</td>\n",
       "      <td>3-Jan-86</td>\n",
       "      <td>26.00</td>\n",
       "    </tr>\n",
       "    <tr>\n",
       "      <td>2</td>\n",
       "      <td>6-Jan-86</td>\n",
       "      <td>26.53</td>\n",
       "    </tr>\n",
       "    <tr>\n",
       "      <td>3</td>\n",
       "      <td>7-Jan-86</td>\n",
       "      <td>25.85</td>\n",
       "    </tr>\n",
       "    <tr>\n",
       "      <td>4</td>\n",
       "      <td>8-Jan-86</td>\n",
       "      <td>25.87</td>\n",
       "    </tr>\n",
       "  </tbody>\n",
       "</table>\n",
       "</div>"
      ],
      "text/plain": [
       "       Date  Price\n",
       "0  2-Jan-86  25.56\n",
       "1  3-Jan-86  26.00\n",
       "2  6-Jan-86  26.53\n",
       "3  7-Jan-86  25.85\n",
       "4  8-Jan-86  25.87"
      ]
     },
     "execution_count": 65,
     "metadata": {},
     "output_type": "execute_result"
    }
   ],
   "source": [
    "df.head()"
   ]
  },
  {
   "cell_type": "code",
   "execution_count": 66,
   "metadata": {},
   "outputs": [],
   "source": [
    "# A variable for predicting 'n' days out into the future\n",
    "forecast_out = 472 "
   ]
  },
  {
   "cell_type": "code",
   "execution_count": 67,
   "metadata": {},
   "outputs": [],
   "source": [
    "#Create another column (the target ) shifted 'n' units up\n",
    "df['Prediction'] = df[['Price']].shift(-forecast_out)"
   ]
  },
  {
   "cell_type": "code",
   "execution_count": 68,
   "metadata": {},
   "outputs": [
    {
     "data": {
      "text/html": [
       "<div>\n",
       "<style scoped>\n",
       "    .dataframe tbody tr th:only-of-type {\n",
       "        vertical-align: middle;\n",
       "    }\n",
       "\n",
       "    .dataframe tbody tr th {\n",
       "        vertical-align: top;\n",
       "    }\n",
       "\n",
       "    .dataframe thead th {\n",
       "        text-align: right;\n",
       "    }\n",
       "</style>\n",
       "<table border=\"1\" class=\"dataframe\">\n",
       "  <thead>\n",
       "    <tr style=\"text-align: right;\">\n",
       "      <th></th>\n",
       "      <th>Date</th>\n",
       "      <th>Price</th>\n",
       "      <th>Prediction</th>\n",
       "    </tr>\n",
       "  </thead>\n",
       "  <tbody>\n",
       "    <tr>\n",
       "      <td>8472</td>\n",
       "      <td>13-Aug-19</td>\n",
       "      <td>57.05</td>\n",
       "      <td>NaN</td>\n",
       "    </tr>\n",
       "    <tr>\n",
       "      <td>8473</td>\n",
       "      <td>14-Aug-19</td>\n",
       "      <td>55.16</td>\n",
       "      <td>NaN</td>\n",
       "    </tr>\n",
       "    <tr>\n",
       "      <td>8474</td>\n",
       "      <td>15-Aug-19</td>\n",
       "      <td>54.51</td>\n",
       "      <td>NaN</td>\n",
       "    </tr>\n",
       "    <tr>\n",
       "      <td>8475</td>\n",
       "      <td>16-Aug-19</td>\n",
       "      <td>54.83</td>\n",
       "      <td>NaN</td>\n",
       "    </tr>\n",
       "    <tr>\n",
       "      <td>8476</td>\n",
       "      <td>19-Aug-19</td>\n",
       "      <td>56.24</td>\n",
       "      <td>NaN</td>\n",
       "    </tr>\n",
       "  </tbody>\n",
       "</table>\n",
       "</div>"
      ],
      "text/plain": [
       "           Date  Price  Prediction\n",
       "8472  13-Aug-19  57.05         NaN\n",
       "8473  14-Aug-19  55.16         NaN\n",
       "8474  15-Aug-19  54.51         NaN\n",
       "8475  16-Aug-19  54.83         NaN\n",
       "8476  19-Aug-19  56.24         NaN"
      ]
     },
     "execution_count": 68,
     "metadata": {},
     "output_type": "execute_result"
    }
   ],
   "source": [
    "df.tail()"
   ]
  },
  {
   "cell_type": "code",
   "execution_count": 71,
   "metadata": {},
   "outputs": [],
   "source": [
    "### Create the independent data set (X)  #######\n",
    "# Convert the dataframe to a numpy array\n",
    "X = np.array(df.drop(['Prediction'],1).drop(['Date'],1))"
   ]
  },
  {
   "cell_type": "code",
   "execution_count": 72,
   "metadata": {},
   "outputs": [
    {
     "name": "stdout",
     "output_type": "stream",
     "text": [
      "[[25.56]\n",
      " [26.  ]\n",
      " [26.53]\n",
      " ...\n",
      " [51.85]\n",
      " [51.59]\n",
      " [52.14]]\n"
     ]
    }
   ],
   "source": [
    "#Remove the last '30' rows\n",
    "X = X[:-forecast_out]\n",
    "print(X)"
   ]
  },
  {
   "cell_type": "code",
   "execution_count": 73,
   "metadata": {},
   "outputs": [],
   "source": [
    "### Create the dependent data set (y)  #####\n",
    "# Convert the dataframe to a numpy array \n",
    "y = np.array(df['Prediction'])"
   ]
  },
  {
   "cell_type": "code",
   "execution_count": 74,
   "metadata": {},
   "outputs": [
    {
     "name": "stdout",
     "output_type": "stream",
     "text": [
      "[18.89 18.69 18.28 ... 54.51 54.83 56.24]\n"
     ]
    }
   ],
   "source": [
    "# Get all of the y values except the last '30' rows\n",
    "y = y[:-forecast_out]\n",
    "print(y)"
   ]
  },
  {
   "cell_type": "code",
   "execution_count": 75,
   "metadata": {},
   "outputs": [],
   "source": [
    "# Split the data into 80% training and 20% testing\n",
    "x_train, x_test, y_train, y_test = train_test_split(X, y, test_size=0.2)"
   ]
  },
  {
   "cell_type": "code",
   "execution_count": 76,
   "metadata": {},
   "outputs": [
    {
     "data": {
      "text/plain": [
       "SVR(C=1000.0, cache_size=200, coef0=0.0, degree=3, epsilon=0.1, gamma=0.1,\n",
       "    kernel='rbf', max_iter=-1, shrinking=True, tol=0.001, verbose=False)"
      ]
     },
     "execution_count": 76,
     "metadata": {},
     "output_type": "execute_result"
    }
   ],
   "source": [
    "# Create and train the Support Vector Machine (Regressor) \n",
    "svr_rbf = SVR(kernel='rbf', C=1e3, gamma=0.1) \n",
    "svr_rbf.fit(x_train, y_train)"
   ]
  },
  {
   "cell_type": "code",
   "execution_count": 77,
   "metadata": {},
   "outputs": [
    {
     "name": "stdout",
     "output_type": "stream",
     "text": [
      "svr/svm confidence:  0.7565939201594104\n"
     ]
    }
   ],
   "source": [
    "# Testing Model: Score returns the coefficient of determination R^2 of the prediction. \n",
    "# The best possible score is 1.0\n",
    "svm_confidence = svr_rbf.score(x_test, y_test)\n",
    "print(\"svr/svm confidence: \", svm_confidence)"
   ]
  },
  {
   "cell_type": "code",
   "execution_count": 78,
   "metadata": {},
   "outputs": [
    {
     "data": {
      "text/plain": [
       "LinearRegression(copy_X=True, fit_intercept=True, n_jobs=None, normalize=False)"
      ]
     },
     "execution_count": 78,
     "metadata": {},
     "output_type": "execute_result"
    }
   ],
   "source": [
    "# Create and train the Linear Regression  Model\n",
    "lr = LinearRegression()\n",
    "# Train the model\n",
    "lr.fit(x_train, y_train)"
   ]
  },
  {
   "cell_type": "code",
   "execution_count": 79,
   "metadata": {},
   "outputs": [
    {
     "name": "stdout",
     "output_type": "stream",
     "text": [
      "lr confidence:  0.5868904773340738\n"
     ]
    }
   ],
   "source": [
    "# Testing Model: Score returns the coefficient of determination R^2 of the prediction. \n",
    "# The best possible score is 1.0\n",
    "lr_confidence = lr.score(x_test, y_test)\n",
    "print(\"lr confidence: \", lr_confidence)"
   ]
  },
  {
   "cell_type": "code",
   "execution_count": 80,
   "metadata": {},
   "outputs": [
    {
     "name": "stdout",
     "output_type": "stream",
     "text": [
      "[[51.62]\n",
      " [51.67]\n",
      " [50.59]\n",
      " [50.44]\n",
      " [50.  ]\n",
      " [50.79]\n",
      " [49.34]\n",
      " [49.58]\n",
      " [50.93]\n",
      " [51.3 ]\n",
      " [50.61]\n",
      " [51.43]\n",
      " [51.86]\n",
      " [51.87]\n",
      " [52.05]\n",
      " [51.29]\n",
      " [51.63]\n",
      " [51.91]\n",
      " [52.32]\n",
      " [51.97]\n",
      " [52.41]\n",
      " [53.92]\n",
      " [54.11]\n",
      " [54.36]\n",
      " [54.32]\n",
      " [54.55]\n",
      " [55.63]\n",
      " [57.34]\n",
      " [57.19]\n",
      " [56.82]\n",
      " [57.16]\n",
      " [56.75]\n",
      " [56.77]\n",
      " [55.67]\n",
      " [55.28]\n",
      " [55.14]\n",
      " [56.21]\n",
      " [56.21]\n",
      " [56.84]\n",
      " [57.88]\n",
      " [58.94]\n",
      " [58.1 ]\n",
      " [57.96]\n",
      " [57.25]\n",
      " [57.4 ]\n",
      " [58.35]\n",
      " [57.48]\n",
      " [57.66]\n",
      " [55.79]\n",
      " [56.5 ]\n",
      " [57.15]\n",
      " [57.84]\n",
      " [57.12]\n",
      " [56.59]\n",
      " [57.  ]\n",
      " [57.29]\n",
      " [57.17]\n",
      " [57.49]\n",
      " [58.09]\n",
      " [58.34]\n",
      " [58.25]\n",
      " [59.55]\n",
      " [59.67]\n",
      " [59.84]\n",
      " [60.46]\n",
      " [60.37]\n",
      " [61.61]\n",
      " [61.98]\n",
      " [61.49]\n",
      " [61.73]\n",
      " [62.92]\n",
      " [63.6 ]\n",
      " [63.81]\n",
      " [64.22]\n",
      " [63.82]\n",
      " [63.92]\n",
      " [63.96]\n",
      " [63.38]\n",
      " [63.66]\n",
      " [64.45]\n",
      " [65.69]\n",
      " [65.62]\n",
      " [66.27]\n",
      " [65.71]\n",
      " [64.64]\n",
      " [64.82]\n",
      " [65.92]\n",
      " [65.5 ]\n",
      " [64.18]\n",
      " [63.48]\n",
      " [61.91]\n",
      " [61.3 ]\n",
      " [59.2 ]\n",
      " [59.41]\n",
      " [59.33]\n",
      " [60.7 ]\n",
      " [61.48]\n",
      " [61.89]\n",
      " [61.91]\n",
      " [61.73]\n",
      " [62.72]\n",
      " [63.52]\n",
      " [63.81]\n",
      " [62.94]\n",
      " [61.43]\n",
      " [60.98]\n",
      " [61.19]\n",
      " [62.49]\n",
      " [62.54]\n",
      " [61.09]\n",
      " [60.13]\n",
      " [62.02]\n",
      " [61.35]\n",
      " [60.69]\n",
      " [60.89]\n",
      " [61.16]\n",
      " [62.29]\n",
      " [62.01]\n",
      " [63.37]\n",
      " [65.1 ]\n",
      " [64.25]\n",
      " [65.8 ]\n",
      " [65.49]\n",
      " [65.21]\n",
      " [64.3 ]\n",
      " [64.87]\n",
      " [63.05]\n",
      " [63.41]\n",
      " [63.35]\n",
      " [63.53]\n",
      " [62.03]\n",
      " [63.4 ]\n",
      " [65.48]\n",
      " [66.81]\n",
      " [67.07]\n",
      " [67.35]\n",
      " [66.23]\n",
      " [66.5 ]\n",
      " [68.44]\n",
      " [68.3 ]\n",
      " [68.26]\n",
      " [67.61]\n",
      " [67.66]\n",
      " [68.  ]\n",
      " [68.18]\n",
      " [68.11]\n",
      " [68.56]\n",
      " [67.28]\n",
      " [67.91]\n",
      " [68.45]\n",
      " [69.71]\n",
      " [70.74]\n",
      " [68.83]\n",
      " [71.16]\n",
      " [71.36]\n",
      " [70.69]\n",
      " [71.01]\n",
      " [71.34]\n",
      " [71.43]\n",
      " [71.47]\n",
      " [71.23]\n",
      " [72.26]\n",
      " [72.09]\n",
      " [71.85]\n",
      " [70.77]\n",
      " [67.92]\n",
      " [66.8 ]\n",
      " [68.24]\n",
      " [66.98]\n",
      " [65.81]\n",
      " [64.76]\n",
      " [65.51]\n",
      " [64.75]\n",
      " [65.96]\n",
      " [65.77]\n",
      " [66.1 ]\n",
      " [66.38]\n",
      " [66.63]\n",
      " [66.91]\n",
      " [65.01]\n",
      " [65.91]\n",
      " [65.09]\n",
      " [65.92]\n",
      " [65.68]\n",
      " [69.02]\n",
      " [69.91]\n",
      " [75.23]\n",
      " [77.41]\n",
      " [73.45]\n",
      " [74.13]\n",
      " [73.89]\n",
      " [74.19]\n",
      " [73.05]\n",
      " [73.78]\n",
      " [73.93]\n",
      " [74.11]\n",
      " [70.47]\n",
      " [70.28]\n",
      " [71.03]\n",
      " [68.22]\n",
      " [68.03]\n",
      " [68.78]\n",
      " [69.42]\n",
      " [70.31]\n",
      " [67.9 ]\n",
      " [70.77]\n",
      " [71.13]\n",
      " [71.59]\n",
      " [68.66]\n",
      " [71.19]\n",
      " [69.88]\n",
      " [68.8 ]\n",
      " [68.95]\n",
      " [68.49]\n",
      " [69.01]\n",
      " [69.17]\n",
      " [66.92]\n",
      " [66.81]\n",
      " [67.61]\n",
      " [67.25]\n",
      " [67.04]\n",
      " [65.07]\n",
      " [65.44]\n",
      " [65.93]\n",
      " [66.5 ]\n",
      " [67.32]\n",
      " [67.85]\n",
      " [69.13]\n",
      " [69.71]\n",
      " [69.97]\n",
      " [68.54]\n",
      " [69.68]\n",
      " [70.25]\n",
      " [69.84]\n",
      " [69.82]\n",
      " [68.69]\n",
      " [67.81]\n",
      " [67.73]\n",
      " [67.55]\n",
      " [69.29]\n",
      " [70.37]\n",
      " [68.6 ]\n",
      " [68.98]\n",
      " [68.86]\n",
      " [69.87]\n",
      " [71.08]\n",
      " [70.77]\n",
      " [70.8 ]\n",
      " [73.23]\n",
      " [73.4 ]\n",
      " [72.22]\n",
      " [72.18]\n",
      " [73.16]\n",
      " [75.37]\n",
      " [75.16]\n",
      " [76.4 ]\n",
      " [74.44]\n",
      " [74.26]\n",
      " [74.27]\n",
      " [74.95]\n",
      " [73.18]\n",
      " [70.97]\n",
      " [71.41]\n",
      " [71.84]\n",
      " [71.93]\n",
      " [69.63]\n",
      " [68.63]\n",
      " [69.16]\n",
      " [69.25]\n",
      " [66.49]\n",
      " [66.56]\n",
      " [67.25]\n",
      " [67.58]\n",
      " [67.  ]\n",
      " [66.18]\n",
      " [65.31]\n",
      " [63.67]\n",
      " [63.12]\n",
      " [63.12]\n",
      " [62.16]\n",
      " [61.69]\n",
      " [60.71]\n",
      " [60.19]\n",
      " [59.85]\n",
      " [55.63]\n",
      " [56.16]\n",
      " [56.45]\n",
      " [56.49]\n",
      " [57.16]\n",
      " [53.39]\n",
      " [54.41]\n",
      " [51.46]\n",
      " [51.31]\n",
      " [50.06]\n",
      " [51.46]\n",
      " [50.78]\n",
      " [52.98]\n",
      " [53.21]\n",
      " [52.64]\n",
      " [51.54]\n",
      " [52.76]\n",
      " [51.07]\n",
      " [51.65]\n",
      " [51.04]\n",
      " [52.69]\n",
      " [51.26]\n",
      " [49.8 ]\n",
      " [46.12]\n",
      " [47.96]\n",
      " [45.64]\n",
      " [45.38]\n",
      " [46.04]\n",
      " [44.48]\n",
      " [45.15]\n",
      " [46.31]\n",
      " [46.92]\n",
      " [47.76]\n",
      " [48.27]\n",
      " [49.58]\n",
      " [52.19]\n",
      " [52.42]\n",
      " [51.44]\n",
      " [50.31]\n",
      " [51.8 ]\n",
      " [52.08]\n",
      " [51.83]\n",
      " [53.6 ]\n",
      " [52.59]\n",
      " [52.44]\n",
      " [52.94]\n",
      " [53.53]\n",
      " [51.79]\n",
      " [53.07]\n",
      " [54.18]\n",
      " [53.84]\n",
      " [55.29]\n",
      " [54.57]\n",
      " [53.69]\n",
      " [53.94]\n",
      " [52.68]\n",
      " [52.75]\n",
      " [52.43]\n",
      " [53.14]\n",
      " [53.84]\n",
      " [54.4 ]\n",
      " [55.58]\n",
      " [56.12]\n",
      " [56.9 ]\n",
      " [56.95]\n",
      " [57.01]\n",
      " [55.32]\n",
      " [55.4 ]\n",
      " [56.92]\n",
      " [57.21]\n",
      " [55.76]\n",
      " [56.6 ]\n",
      " [56.55]\n",
      " [56.22]\n",
      " [56.6 ]\n",
      " [55.77]\n",
      " [56.79]\n",
      " [56.89]\n",
      " [58.27]\n",
      " [58.59]\n",
      " [58.51]\n",
      " [59.09]\n",
      " [59.12]\n",
      " [60.12]\n",
      " [59.98]\n",
      " [58.87]\n",
      " [58.71]\n",
      " [59.87]\n",
      " [59.39]\n",
      " [59.29]\n",
      " [60.19]\n",
      " [61.59]\n",
      " [62.53]\n",
      " [62.46]\n",
      " [62.12]\n",
      " [63.1 ]\n",
      " [64.37]\n",
      " [64.05]\n",
      " [64.62]\n",
      " [63.61]\n",
      " [63.86]\n",
      " [63.43]\n",
      " [64.01]\n",
      " [63.74]\n",
      " [64.02]\n",
      " [65.66]\n",
      " [66.24]\n",
      " [65.96]\n",
      " [65.23]\n",
      " [63.29]\n",
      " [63.39]\n",
      " [63.83]\n",
      " [63.55]\n",
      " [61.75]\n",
      " [61.98]\n",
      " [62.3 ]\n",
      " [61.41]\n",
      " [62.13]\n",
      " [61.58]\n",
      " [61.65]\n",
      " [60.97]\n",
      " [61.82]\n",
      " [62.03]\n",
      " [62.93]\n",
      " [62.77]\n",
      " [63.12]\n",
      " [63.02]\n",
      " [61.42]\n",
      " [57.65]\n",
      " [58.4 ]\n",
      " [58.91]\n",
      " [58.84]\n",
      " [56.47]\n",
      " [53.49]\n",
      " [53.25]\n",
      " [53.5 ]\n",
      " [51.57]\n",
      " [52.59]\n",
      " [53.95]\n",
      " [53.33]\n",
      " [53.3 ]\n",
      " [51.13]\n",
      " [52.38]\n",
      " [52.47]\n",
      " [51.94]\n",
      " [53.86]\n",
      " [53.74]\n",
      " [56.88]\n",
      " [57.35]\n",
      " [57.73]\n",
      " [57.63]\n",
      " [59.17]\n",
      " [59.18]\n",
      " [58.2 ]\n",
      " [58.91]\n",
      " [56.  ]\n",
      " [57.06]\n",
      " [57.35]\n",
      " [57.57]\n",
      " [60.28]\n",
      " [59.93]\n",
      " [59.99]\n",
      " [59.3 ]\n",
      " [57.44]\n",
      " [56.5 ]\n",
      " [55.08]\n",
      " [55.42]\n",
      " [55.87]\n",
      " [56.58]\n",
      " [55.9 ]\n",
      " [55.88]\n",
      " [56.04]\n",
      " [56.85]\n",
      " [58.04]\n",
      " [58.53]\n",
      " [53.64]\n",
      " [55.67]\n",
      " [54.63]\n",
      " [53.6 ]\n",
      " [51.14]\n",
      " [52.6 ]\n",
      " [54.41]\n",
      " [54.98]\n",
      " [57.05]\n",
      " [55.16]\n",
      " [54.51]\n",
      " [54.83]\n",
      " [56.24]]\n"
     ]
    }
   ],
   "source": [
    "# Set x_forecast equal to the last 30 rows of the original data set from Price column\n",
    "x_forecast = np.array(df.drop(['Prediction'],1).drop(['Date'],1))[-forecast_out:]\n",
    "print(x_forecast)"
   ]
  },
  {
   "cell_type": "code",
   "execution_count": 81,
   "metadata": {
    "scrolled": true
   },
   "outputs": [
    {
     "name": "stdout",
     "output_type": "stream",
     "text": [
      "[ 58.25381263  58.00375707  61.30389018  61.41895268  61.52915362\n",
      "  61.04477609  61.6595899   61.57971988  60.77566302  59.66436088\n",
      "  61.28387625  59.13604536  57.00817608  56.95446369  55.98477937\n",
      "  59.70216416  58.20431451  56.73900382  54.61247166  56.41501405\n",
      "  54.20642445  55.26607297  56.20749121  57.40494958  57.22224407\n",
      "  58.19916219  59.78887677  65.19174597  64.26626226  62.18661337\n",
      "  64.08397508  61.85157606  61.94491709  59.78977975  59.72656024\n",
      "  59.61869925  60.14613932  60.14613932  62.28650834  68.27236002\n",
      "  70.21644629  69.19701366  68.63845737  64.63446341  65.56336918\n",
      "  69.91047212  66.05460289  67.11727823  59.8010774   60.8614141\n",
      "  64.02354739  68.07757245  63.84340481  61.17874501  63.14446156\n",
      "  64.88174608  64.14457666  66.11543687  69.16077167  69.8891292\n",
      "  69.67001023  69.38800347  69.2152094   69.00637317  68.82342856\n",
      "  68.78482736  71.17479258  72.52513561  70.78610851  71.59017441\n",
      "  75.85319175  75.98380951  75.38115249  73.48382634  75.34518889\n",
      "  74.95248453  74.77959453  76.28248077  75.84236993  72.20795382\n",
      "  70.89041542  70.48704328  76.60430868  71.01809379  71.19165612\n",
      "  70.36649914  72.68176267  69.95413045  73.69842656  76.18978454\n",
      "  72.25555161  70.23143334  69.91974278  69.60333087  69.72725287\n",
      "  69.03740354  70.75500973  72.17949385  72.25555161  71.59017441\n",
      "  75.3117473   76.13261181  75.38115249  75.89751422  70.60261725\n",
      "  69.48306474  69.94687542  74.52119965  74.70425702  69.71270552\n",
      "  68.79342016  72.68121022  70.36982427  69.02531849  69.31764069\n",
      "  69.8741328   73.75114013  72.64207194  76.2878313   69.56863592\n",
      "  73.32048016  71.65996159  69.9187588   69.47415364  73.04475396\n",
      "  70.17400956  76.10403692  76.26217445  76.29641696  76.11652028\n",
      "  72.72042174  76.26965415  69.88477032  84.24950152  87.94257931\n",
      "  91.5093405   76.09576522  79.73884985  99.13043689  98.65214522\n",
      "  98.49577042  94.2542307   94.71150704  97.21706593  98.15309156\n",
      "  97.81772981  99.46877908  90.67102138  96.65305796  99.1609141\n",
      " 101.50992892 101.20556957 100.06681596  99.75204726  98.85956083\n",
      " 101.3274037  100.350579    98.95223817  98.53140089  98.34200179\n",
      "  99.4496077   95.05383081  95.61577976  96.57861915 101.12671957\n",
      "  96.71910422  84.10356533  98.41394459  86.69334605  71.73798329\n",
      "  70.62064967  69.99088757  70.66524554  73.06255954  71.43387576\n",
      "  74.54132895  78.06423952  81.61539082  85.69758508  69.74510486\n",
      "  72.58962481  69.58402284  72.68176267  70.8286397  100.41217544\n",
      " 101.74083789  89.37694873  88.70330793  93.57797513  92.54282168\n",
      "  93.05069517  92.39162946  93.8053832   93.22878859  92.97736067\n",
      "  92.59119095 101.71805475 101.86812514 100.27523157  98.32960129\n",
      "  97.39024778  99.96832309 101.07633782 101.85538956  96.58614929\n",
      " 101.12671957  99.87755544  97.77157046  99.71167601  99.62399012\n",
      " 101.71165067 100.00822326 100.28905247  99.27846984 100.39480261\n",
      " 100.66686188  85.84091033  84.24950152  94.2542307   90.29999758\n",
      "  87.53059828  69.6180361   69.76259228  72.77513449  79.73884985\n",
      "  91.15487171  96.23850397 100.59981171 101.50992892 101.79218308\n",
      "  99.41627701 101.4691196  101.87695931 101.66941894 101.64697936\n",
      "  99.77895664  95.94440966  95.31267327  93.67490171 100.8654735\n",
      " 101.81784505  99.56966325 100.34227459 100.1240454  101.70143713\n",
      " 100.08058195 101.12671957 101.04362903  93.70877909  93.61209563\n",
      "  95.17606788  95.3045507   93.74500153  89.10511624  89.53633267\n",
      "  88.89971765  91.67915756  92.20443737  92.17681443  90.09348085\n",
      "  93.73462469 100.4967227   98.62566877  96.62226968  96.23854765\n",
      " 101.39844991  99.64198194 100.65014502 100.79965442  79.59673108\n",
      "  80.59913156  90.29999758  93.96872487  86.97427062  75.47921827\n",
      "  69.51504243  75.81634745  76.20002445  76.20002445  73.23492282\n",
      "  71.44893918  69.04975923  68.77626089  68.99577027  59.78887677\n",
      "  60.06782139  60.70480794  60.82896312  64.08397508  53.17242966\n",
      "  57.62653891  59.00486065  59.62614097  61.52444754  59.00486065\n",
      "  61.06106515  52.73745091  52.82447844  53.35414171  58.63953557\n",
      "  53.03990344  60.42511671  58.10453493  60.5073456   53.21121284\n",
      "  59.8130514   61.54403143  60.05084391  61.96997164  60.69235335\n",
      "  61.33345805  60.1040368   64.23851896  62.02493219  60.01018585\n",
      "  60.55008088  61.79226964  62.09339743  61.57971988  55.25105992\n",
      "  54.1635011   59.09268505  61.47756971  57.32847071  55.82488442\n",
      "  57.16880108  53.84786358  53.51331496  54.07908212  52.7647611\n",
      "  53.59421812  57.38144083  52.72207334  56.55326127  54.88215593\n",
      "  59.73173797  58.27448022  54.20947662  55.36385056  53.2384595\n",
      "  53.06225687  54.12105062  52.75421954  54.88215593  57.582868\n",
      "  59.78817351  60.01376814  62.5965628   62.86599283  63.20115111\n",
      "  59.74552253  59.77092825  62.70318767  64.3885252   59.79646024\n",
      "  61.21678625  61.03211645  60.16328923  61.21678625  59.79783354\n",
      "  62.04018753  62.54384635  69.72291649  70.24791192  70.17181175\n",
      "  70.06432697  70.0271521   68.79722915  68.87801744  70.26365998\n",
      "  70.29914549  68.97519473  69.63444995  69.78813671  68.77626089\n",
      "  71.1080787   74.66805438  74.40910319  73.07593836  76.17556885\n",
      "  72.65438965  74.36137146  71.29344734  75.96199848  75.19518519\n",
      "  76.24507451  74.5519617   75.615013    74.50499159  70.70923001\n",
      "  76.22167172  73.06255954  69.47234554  76.30542732  76.27642235\n",
      "  75.30860395  76.08218208  71.66177427  72.52513561  73.79059676\n",
      "  70.54313004  73.11565098  71.07500475  71.31043667  69.46367376\n",
      "  71.91721161  72.72042174  75.87560041  75.46235374  76.20002445\n",
      "  76.05422038  70.5727675   67.06046227  70.00824472  70.23878239\n",
      "  70.27840631  60.76575552  53.46147118  52.88139941  53.49378355\n",
      "  58.4971217   53.51331496  55.41294649  53.03068715  52.96926743\n",
      "  60.24885574  54.33793932  53.95615844  56.57702914  54.97687444\n",
      "  54.42521193  62.49153689  65.253763    67.5055963   66.94590956\n",
      "  69.96128919  69.94759521  69.5272232   70.23878239  59.89335954\n",
      "  63.48910957  65.253763    66.59552842  68.76916234  68.91872557\n",
      "  68.87059816  69.77301957  65.80986592  60.8614141   59.54942547\n",
      "  59.77507698  59.82209802  61.14125536  59.83397297  59.82578672\n",
      "  59.92696982  62.33712048  68.97098561  70.19413453  54.00400277\n",
      "  59.78977975  58.48976049  53.84786358  60.21794549  53.48022198\n",
      "  57.62653891  59.39879623  63.43094567  59.63851669  58.04342592\n",
      "  59.08342151  60.19911365]\n"
     ]
    }
   ],
   "source": [
    "# Print support vector regressor model predictions for the next '30' days\n",
    "svm_prediction = svr_rbf.predict(x_forecast)\n",
    "print(svm_prediction)"
   ]
  },
  {
   "cell_type": "code",
   "execution_count": 82,
   "metadata": {
    "scrolled": true
   },
   "outputs": [
    {
     "name": "stdout",
     "output_type": "stream",
     "text": [
      "[51.98330303 52.02055859 51.21583841 51.10407172 50.77622276 51.36486067\n",
      " 50.28444931 50.46327602 51.46917625 51.74486742 51.23074064 51.84173189\n",
      " 52.16212974 52.16958085 52.30370088 51.73741631 51.99075414 52.1993853\n",
      " 52.50488092 52.24409198 52.57194094 53.69705897 53.83863011 54.02490793\n",
      " 53.99510348 54.16647908 54.97119926 56.24533955 56.13357285 55.85788168\n",
      " 56.11121952 55.80572389 55.82062612 55.00100371 54.71041031 54.60609473\n",
      " 55.4033638  55.4033638  55.87278391 56.64769964 57.43751759 56.81162412\n",
      " 56.70730854 56.17827953 56.29004622 56.99790194 56.34965512 56.48377516\n",
      " 55.09041706 55.61944607 56.1037684  56.61789519 56.08141506 55.68650609\n",
      " 55.99200171 56.20808398 56.11867063 56.35710624 56.80417301 56.99045083\n",
      " 56.92339081 57.89203547 57.98144883 58.10811774 58.57008674 58.50302672\n",
      " 59.42696471 59.70265588 59.33755135 59.51637806 60.40306048 60.90973615\n",
      " 61.06620952 61.37170515 61.07366064 61.14817176 61.17797621 60.74581167\n",
      " 60.95444283 61.54308074 62.46701873 62.41486094 62.89918327 62.48192095\n",
      " 61.68465188 61.81877191 62.63839432 62.32544758 61.3419007  60.8203228\n",
      " 59.65049809 59.19598021 57.63124653 57.78771989 57.72811099 58.74891344\n",
      " 59.33010024 59.63559587 59.65049809 59.51637806 60.25403823 60.85012725\n",
      " 61.06620952 60.41796271 59.29284468 58.9575446  59.11401797 60.08266263\n",
      " 60.1199182  59.03950684 58.32420001 59.73246033 59.23323578 58.74146233\n",
      " 58.89048459 59.09166463 59.93364038 59.72500922 60.73836056 62.02740307\n",
      " 61.39405849 62.54898097 62.31799647 62.10936531 61.43131405 61.85602748\n",
      " 60.49992495 60.76816501 60.72345833 60.85757836 59.73991145 60.7607139\n",
      " 62.31054536 63.30154336 63.49527229 63.70390345 62.86937882 63.07055886\n",
      " 64.51607475 64.41175917 64.38195472 63.89763238 63.93488795 64.18822578\n",
      " 64.32234581 64.27018802 64.6054881  63.65174566 64.12116577 64.52352586\n",
      " 65.46236607 66.22983069 64.80666814 66.54277743 66.69179968 66.19257512\n",
      " 66.43101073 66.67689746 66.74395747 66.77376192 66.59493522 67.36239983\n",
      " 67.23573092 67.05690421 66.25218403 64.12861688 63.29409225 64.36705249\n",
      " 63.42821228 62.55643208 61.77406524 62.3328987  61.76661413 62.66819877\n",
      " 62.52662763 62.77251435 62.98114551 63.16742333 63.37605449 61.96034306\n",
      " 62.63094321 62.01995196 62.63839432 62.45956762 64.94823929 65.61138833\n",
      " 69.57538033 71.19972292 68.24908226 68.75575793 68.57693122 68.8004646\n",
      " 67.95103774 68.49496898 68.60673567 68.7408557  66.02865064 65.8870795\n",
      " 66.44591296 64.35215026 64.21057912 64.76941258 65.2462838  65.90943284\n",
      " 64.11371466 66.25218403 66.52042409 66.86317528 64.67999923 66.56513076\n",
      " 65.58903499 64.78431481 64.8960815  64.55333031 64.94078818 65.06000598\n",
      " 63.3835056  63.30154336 63.89763238 63.62939232 63.47291896 62.00504973\n",
      " 62.28074091 62.64584543 63.07055886 63.68155011 64.07645909 65.03020153\n",
      " 65.46236607 65.656095   64.59058587 65.44001273 65.86472616 65.55923054\n",
      " 65.54432831 64.70235257 64.04665464 63.98704574 63.85292571 65.14941933\n",
      " 65.95413952 64.63529255 64.91843484 64.82902148 65.58158388 66.48316852\n",
      " 66.25218403 66.27453737 68.08515777 68.21182669 67.33259538 67.30279093\n",
      " 68.03299998 69.67969591 69.52322254 70.44716053 68.98674242 68.85262239\n",
      " 68.8600735  69.36674917 68.04790221 66.40120628 66.72905525 67.0494531\n",
      " 67.11651311 65.40275717 64.65764589 65.05255487 65.11961488 63.06310775\n",
      " 63.11526554 63.62939232 63.87527905 63.4431145  62.83212325 62.18387644\n",
      " 60.96189394 60.55208274 60.55208274 59.83677591 59.48657361 58.75636456\n",
      " 58.36890669 58.11556886 54.97119926 55.36610824 55.58219051 55.61199496\n",
      " 56.11121952 53.30214999 54.0621635  51.86408522 51.75231853 50.82092943\n",
      " 51.86408522 51.35740955 52.99665437 53.16802996 52.74331653 51.92369413\n",
      " 52.83272989 51.57349182 52.00565637 51.55113849 52.7805721  51.71506297\n",
      " 50.6272005  47.88519099 49.25619575 47.52753758 47.33380865 47.82558209\n",
      " 46.66320849 47.16243305 48.02676213 48.48128002 49.10717349 49.48718024\n",
      " 50.46327602 52.40801646 52.57939205 51.849183   51.00720725 52.11742306\n",
      " 52.32605422 52.1397764  53.45862336 52.70606097 52.59429428 52.96684992\n",
      " 53.40646557 52.10997195 53.06371438 53.8907879  53.63745007 54.71786142\n",
      " 54.1813813  53.52568338 53.7119612  52.77312098 52.82527877 52.58684316\n",
      " 53.11587217 53.63745007 54.05471238 54.93394369 55.33630378 55.91749058\n",
      " 55.95474615 55.99945282 54.74021476 54.79982366 55.93239281 56.14847508\n",
      " 55.06806372 55.6939572  55.65670164 55.41081491 55.6939572  55.07551484\n",
      " 55.83552834 55.91003947 56.93829304 57.17672864 57.11711974 57.54928428\n",
      " 57.57163762 58.3167489  58.21243332 57.3853598  57.266142   58.13047108\n",
      " 57.77281767 57.69830654 58.36890669 59.41206248 60.11246709 60.0603093\n",
      " 59.80697146 60.53718051 61.48347184 61.24503623 61.66974966 60.91718727\n",
      " 61.10346509 60.78306724 61.21523178 61.01405173 61.22268289 62.44466539\n",
      " 62.87682993 62.66819877 62.12426754 60.67875166 60.75326279 61.08111175\n",
      " 60.87248059 59.53128029 59.70265588 59.94109149 59.27794245 59.81442257\n",
      " 59.40461137 59.45676916 58.95009349 59.58343808 59.73991145 60.4105116\n",
      " 60.29129379 60.55208274 60.47757161 59.28539357 56.47632404 57.0351575\n",
      " 57.41516425 57.36300646 55.59709273 53.37666112 53.19783441 53.38411223\n",
      " 51.94604746 52.70606097 53.71941231 53.25744332 53.23508998 51.6181985\n",
      " 52.5495876  52.61664762 52.22173864 53.65235229 53.56293894 55.90258836\n",
      " 56.25279066 56.53593294 56.46142182 57.60889319 57.6163443  56.88613525\n",
      " 57.41516425 55.24689043 56.03670839 56.25279066 56.41671514 58.43596671\n",
      " 58.17517776 58.21988444 57.70575765 56.31985067 55.61944607 54.56138805\n",
      " 54.81472589 55.15002597 55.67905497 55.1723793  55.15747708 55.27669488\n",
      " 55.88023502 56.76691744 57.13202197 53.48842781 55.00100371 54.22608798\n",
      " 53.45862336 51.62564961 52.71351208 54.0621635  54.48687693 56.02925727\n",
      " 54.62099696 54.13667463 54.37511023 55.42571714]\n"
     ]
    }
   ],
   "source": [
    "# Print linear regression model predictions for the next '30' days\n",
    "lr_prediction = lr.predict(x_forecast)\n",
    "print(lr_prediction)"
   ]
  },
  {
   "cell_type": "code",
   "execution_count": 83,
   "metadata": {},
   "outputs": [
    {
     "data": {
      "text/plain": [
       "Text(0.5, 1.0, 'SVM Forecasting')"
      ]
     },
     "execution_count": 83,
     "metadata": {},
     "output_type": "execute_result"
    },
    {
     "data": {
      "image/png": "[encoded data removed]",
      "text/plain": [
       "<Figure size 432x288 with 1 Axes>"
      ]
     },
     "metadata": {
      "needs_background": "light"
     },
     "output_type": "display_data"
    }
   ],
   "source": [
    "plt.plot(svm_prediction);\n",
    "plt.ylabel('Price')\n",
    "plt.xlabel('Time (Days from now)')\n",
    "plt.title('SVM Forecasting')"
   ]
  },
  {
   "cell_type": "code",
   "execution_count": 84,
   "metadata": {},
   "outputs": [
    {
     "data": {
      "text/plain": [
       "Text(0.5, 1.0, 'LR Forecasting')"
      ]
     },
     "execution_count": 84,
     "metadata": {},
     "output_type": "execute_result"
    },
    {
     "data": {
      "image/png": "[encoded data removed]",
      "text/plain": [
       "<Figure size 432x288 with 1 Axes>"
      ]
     },
     "metadata": {
      "needs_background": "light"
     },
     "output_type": "display_data"
    }
   ],
   "source": [
    "plt.plot(lr_prediction);\n",
    "plt.ylabel('Price')\n",
    "plt.xlabel('Time (Days from now)')\n",
    "plt.title('LR Forecasting')"
   ]
  },
  {
   "cell_type": "code",
   "execution_count": 85,
   "metadata": {},
   "outputs": [],
   "source": [
    "pd.DataFrame(svm_prediction).to_csv(\"svm.csv\")"
   ]
  },
  {
   "cell_type": "code",
   "execution_count": 86,
   "metadata": {},
   "outputs": [],
   "source": [
    "pd.DataFrame(lr_prediction).to_csv(\"lr.csv\")"
   ]
  },
  {
   "cell_type": "code",
   "execution_count": 87,
   "metadata": {},
   "outputs": [],
   "source": [
    "svm_forecast = pd.read_csv('WTI_price_svm.csv')"
   ]
  },
  {
   "cell_type": "code",
   "execution_count": 88,
   "metadata": {},
   "outputs": [],
   "source": [
    "lr_forecast = pd.read_csv('WTI_price_lr.csv')"
   ]
  },
  {
   "cell_type": "code",
   "execution_count": 89,
   "metadata": {},
   "outputs": [
    {
     "data": {
      "image/png": "[encoded data removed]",
      "text/plain": [
       "<Figure size 432x288 with 1 Axes>"
      ]
     },
     "metadata": {
      "needs_background": "light"
     },
     "output_type": "display_data"
    }
   ],
   "source": [
    "svm_forecast.plot(kind='line',x='Date',y='Price',color='blue');"
   ]
  },
  {
   "cell_type": "code",
   "execution_count": 90,
   "metadata": {},
   "outputs": [
    {
     "data": {
      "image/png": "[encoded data removed]",
      "text/plain": [
       "<Figure size 432x288 with 1 Axes>"
      ]
     },
     "metadata": {
      "needs_background": "light"
     },
     "output_type": "display_data"
    }
   ],
   "source": [
    "lr_forecast.plot(kind='line',x='Date',y='Price',color='blue');"
   ]
  }
 ],
 "metadata": {
  "kernelspec": {
   "display_name": "Python 3",
   "language": "python",
   "name": "python3"
  },
  "language_info": {
   "codemirror_mode": {
    "name": "ipython",
    "version": 3
   },
   "file_extension": ".py",
   "mimetype": "text/x-python",
   "name": "python",
   "nbconvert_exporter": "python",
   "pygments_lexer": "ipython3",
   "version": "3.7.3"
  }
 },
 "nbformat": 4,
 "nbformat_minor": 2
}
